{
 "cells": [
  {
   "cell_type": "markdown",
   "metadata": {},
   "source": [
    "### TORCHVISION OBJECT DETECTION FINETUNING TUTORIAL\n",
    "    通过这个教程，我们将会精调(FineTuning)已经预训练好的模型 Mask R-CNN,训练数据集为 Penn-Fudan Database for Pedestrian Detection and Segmentation。该数据集包含170张图片，里面有345个行人，通过这个教程，我们将会了解如何应用torchvision的功能，用新的数据集去实现和训练图像分割的模型。"
   ]
  },
  {
   "cell_type": "markdown",
   "metadata": {},
   "source": [
    "#### 定义DataSet\n",
    "    训练目标检测，实体分割和行人特征点检测的脚本，可以很容易的导入第三方数据集，该数据集类需要从torch.utils.data.Dataset类继承，并且实现__len__和__getitem__方法。\n",
    "    这里唯一比较特殊的地方是__getitem__函数的返回内容。\n",
    "    + image : PIL图像，尺寸为(W, H)\n",
    "    + target: 一个dic，包含以下内容：\n",
    "        + boxes (FloatTensor[N, 4]): the coordinates of the N bounding boxes in [x0, y0, x1, y1] format, ranging from 0 to W and 0 to H\n",
    "        + labels (Int64Tensor[N]): the label for each bounding box\n",
    "        + image_id (Int64Tensor[1]): an image identifier. It should be unique between all the images in the dataset, and is used during evaluation\n",
    "        + area (Tensor[N]): The area of the bounding box. This is used during evaluation with the COCO metric, to separate the metric scores between small, medium and large boxes.\n",
    "        + iscrowd (UInt8Tensor[N]): instances with iscrowd=True will be ignored during evaluation.\n",
    "        + (optionally) masks (UInt8Tensor[N, H, W]): The segmentation masks for each one of the objects\n",
    "        + (optionally) keypoints (FloatTensor[N, K, 3]): For each one of the N objects, it contains the K keypoints in [x, y, visibility] format, defining the object. visibility=0 means that the keypoint is not visible. Note that for data augmentation, the notion of flipping a keypoint is dependent on the data representation, and you should probably adapt references/detection/transforms.py for your new keypoint representation"
   ]
  },
  {
   "cell_type": "markdown",
   "metadata": {},
   "source": [
    "#### 编写PennFudan的DataSet\n",
    "    下载后，PennFudan的目录结果如下：    \n",
    "    '''\n",
    "    PennFudanPed/\n",
    "      PedMasks/\n",
    "        FudanPed00001_mask.png\n",
    "        FudanPed00002_mask.png\n",
    "        FudanPed00003_mask.png\n",
    "        FudanPed00004_mask.png\n",
    "        ...\n",
    "      PNGImages/\n",
    "        FudanPed00001.png\n",
    "        FudanPed00002.png\n",
    "        FudanPed00003.png\n",
    "        FudanPed00004.png\n",
    "    '''"
   ]
  },
  {
   "cell_type": "markdown",
   "metadata": {},
   "source": [
    "接下来，我们继承torch.utils.data.DataSet，编写PennFudan的DataSet:"
   ]
  },
  {
   "cell_type": "code",
   "execution_count": null,
   "metadata": {},
   "outputs": [],
   "source": [
    "import os\n",
    "import numpy as np\n",
    "import torch\n",
    "from PIL import Image"
   ]
  }
 ],
 "metadata": {
  "kernelspec": {
   "display_name": "Python 3",
   "language": "python",
   "name": "python3"
  },
  "language_info": {
   "codemirror_mode": {
    "name": "ipython",
    "version": 3
   },
   "file_extension": ".py",
   "mimetype": "text/x-python",
   "name": "python",
   "nbconvert_exporter": "python",
   "pygments_lexer": "ipython3",
   "version": "3.6.3"
  }
 },
 "nbformat": 4,
 "nbformat_minor": 2
}
